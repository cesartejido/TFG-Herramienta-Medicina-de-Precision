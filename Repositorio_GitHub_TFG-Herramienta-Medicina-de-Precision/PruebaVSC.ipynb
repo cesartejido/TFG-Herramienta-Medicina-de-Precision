{
 "cells": [
  {
   "cell_type": "code",
   "execution_count": 4,
   "metadata": {},
   "outputs": [
    {
     "name": "stdout",
     "output_type": "stream",
     "text": [
      "La mutación 1 no se encuentra.\n"
     ]
    }
   ],
   "source": [
    "# Secuencia original\n",
    "secuencia = \"AGCTPQR\"\n",
    "# Mutación que queremos buscar\n",
    "mutacion = \"1\"\n",
    "\n",
    "if mutacion in secuencia:\n",
    "    print(f\"La mutación {mutacion} está presente.\")\n",
    "else:\n",
    "    print(f\"La mutación {mutacion} no se encuentra.\")\n"
   ]
  },
  {
   "cell_type": "code",
   "execution_count": null,
   "metadata": {},
   "outputs": [],
   "source": []
  }
 ],
 "metadata": {
  "kernelspec": {
   "display_name": "Python 3",
   "language": "python",
   "name": "python3"
  },
  "language_info": {
   "codemirror_mode": {
    "name": "ipython",
    "version": 3
   },
   "file_extension": ".py",
   "mimetype": "text/x-python",
   "name": "python",
   "nbconvert_exporter": "python",
   "pygments_lexer": "ipython3",
   "version": "3.10.4"
  }
 },
 "nbformat": 4,
 "nbformat_minor": 2
}
