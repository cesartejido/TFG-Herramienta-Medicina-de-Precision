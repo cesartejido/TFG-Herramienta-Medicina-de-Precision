{
 "cells": [
  {
   "cell_type": "markdown",
   "id": "6d8b3200",
   "metadata": {},
   "source": [
    "# TFG sobre Herramienta para la Medicina de Precisión"
   ]
  },
  {
   "cell_type": "markdown",
   "id": "ba3d6c32",
   "metadata": {},
   "source": [
    "### Ejercicios tipo para agilizar el manejo de Python"
   ]
  },
  {
   "cell_type": "markdown",
   "id": "959d190c",
   "metadata": {},
   "source": [
    "####  Leer y procesar secuencias de aminoácidos"
   ]
  },
  {
   "cell_type": "code",
   "execution_count": 19,
   "id": "7fb90582",
   "metadata": {},
   "outputs": [
    {
     "name": "stdout",
     "output_type": "stream",
     "text": [
      "La secuencia es: ACDEFGHIKLMNPQRSTVWY\n",
      "Número de aminoácidos: 20\n"
     ]
    }
   ],
   "source": [
    "#1. Leer secuencia desde un archivo\n",
    " \n",
    "with open(\"secuencia.txt\", \"r\") as archivo: # r para modo lectura\n",
    "    secuencia = archivo.read().strip() #read() obtener sec como texto y strip() elimina espacios en blanco\n",
    "\n",
    "\n",
    "longitud = len(secuencia)\n",
    "\n",
    "print(f\"La secuencia es: {secuencia}\") # f\"....{}...\"  --> tener en cuenta para dar los resultados de forma clara y visual\n",
    "print(f\"Número de aminoácidos: {longitud}\")\n"
   ]
  },
  {
   "cell_type": "code",
   "execution_count": 20,
   "id": "cc1f3fe8",
   "metadata": {},
   "outputs": [
    {
     "name": "stdout",
     "output_type": "stream",
     "text": [
      "1\n"
     ]
    }
   ],
   "source": [
    "#2.  Contar cuántas veces aparece un aminoácido específico\n",
    "aminoacido = \"L\"\n",
    "\n",
    "contar = secuencia.count(aminoacido)\n",
    "\n",
    "print(contar)"
   ]
  },
  {
   "cell_type": "code",
   "execution_count": 21,
   "id": "23080833",
   "metadata": {},
   "outputs": [
    {
     "name": "stdout",
     "output_type": "stream",
     "text": [
      "['Alanina', 'Cisteína', 'Ácido aspártico', 'Ácido glutámico', 'Fenilalanina', 'Glicina']\n"
     ]
    }
   ],
   "source": [
    "#3. Paso de letras a nombres de aminoacidos\n",
    "\n",
    "# IMPORTANTE, EL SIGUIENTE DICCIONARIO, LE PODRE UTILIZAR EN EL FUTURO\n",
    "# CONTIENE TODOS LOS AMINOACIDOS\n",
    "\n",
    "nombres_aminoacidos = {\n",
    "    \"A\": \"Alanina\", \"C\": \"Cisteína\", \"D\": \"Ácido aspártico\", \n",
    "    \"E\": \"Ácido glutámico\", \"F\": \"Fenilalanina\", \"G\": \"Glicina\", \n",
    "    \"H\": \"Histidina\", \"I\": \"Isoleucina\", \"K\": \"Lisina\", \n",
    "    \"L\": \"Leucina\", \"M\": \"Metionina\", \"N\": \"Asparagina\", \n",
    "    \"P\": \"Prolina\", \"Q\": \"Glutamina\", \"R\": \"Arginina\", \n",
    "    \"S\": \"Serina\", \"T\": \"Treonina\", \"V\": \"Valina\", \n",
    "    \"W\": \"Triptófano\", \"Y\": \"Tirosina\"}\n",
    "\n",
    "seq = \"ACDEFG\"\n",
    "\n",
    "traducir = [nombres_aminoacidos[i] for i in seq] #los corchestes que engloban sirben para agrupar el resultado en una lista\n",
    "print(traducir)"
   ]
  },
  {
   "cell_type": "code",
   "execution_count": 22,
   "id": "cc29812a",
   "metadata": {},
   "outputs": [
    {
     "name": "stdout",
     "output_type": "stream",
     "text": [
      "{'P', 'Y', 'M', 'H', 'N', 'C', 'R', 'W', 'K', 'S', 'V', 'F', 'L', 'D', 'E', 'T', 'I', 'Q', 'A', 'G'}\n"
     ]
    }
   ],
   "source": [
    "#4. Obtener los aminoacidos validos a partir del diccionario anterior\n",
    "aa_validos = set(nombres_aminoacidos.keys()) # Con set() lo que hacemos es crear un conjunto, que se caracteriza por no tener un orden y no tener duplicados, mejor que list\n",
    "print(aa_validos)\n",
    "\n",
    "#aa_validos IMPORTANTE ,LO PODRÉ UTILIZAR EN POSTERIORMENTE PARA HACER MÁS CONSULTAS, YA QUE CONTIENE TODOS LOS AA "
   ]
  },
  {
   "cell_type": "code",
   "execution_count": 23,
   "id": "197db2d9",
   "metadata": {},
   "outputs": [
    {
     "name": "stdout",
     "output_type": "stream",
     "text": [
      "La secuencia es válida.\n"
     ]
    }
   ],
   "source": [
    "# Secuencia de ejemplo\n",
    "secuencia = \"\"\n",
    "\n",
    "# Conjunto de aminoácidos válidos\n",
    "aminoacidos_validos = set(\"ACDEFGHIKLMNPQRSTVWY\")\n",
    "\n",
    "# Validar la secuencia\n",
    "es_valida = all(aa in aminoacidos_validos for aa in secuencia)\n",
    "\n",
    "if es_valida:\n",
    "    print(\"La secuencia es válida.\")\n",
    "else:\n",
    "    print(\"La secuencia contiene caracteres no válidos.\")\n"
   ]
  },
  {
   "cell_type": "code",
   "execution_count": 24,
   "id": "7bdd8fb5",
   "metadata": {},
   "outputs": [
    {
     "name": "stdout",
     "output_type": "stream",
     "text": [
      "La secuencia contiene caracteres no válidos.\n"
     ]
    }
   ],
   "source": [
    "#5. Comprobar si una secuencia contiene solo aminoácidos válidos\n",
    "seq = \"ACDGXHT\" # x no es un aa\n",
    "\n",
    "# Validar la secuencia\n",
    "es_valida = all(aa in aa_validos for aa in seq) #all() para verificar que cada caracter esta en el conjunto\n",
    "#El bucle recorre que cada aa de seq este dentro de aa_validos. Si es así all() delvuelve  es_valida = True\n",
    "if es_valida:\n",
    "    print(\"La secuencia es válida.\")\n",
    "else:\n",
    "    print(\"La secuencia contiene caracteres no válidos.\")"
   ]
  },
  {
   "cell_type": "code",
   "execution_count": 25,
   "id": "a0894988",
   "metadata": {},
   "outputs": [
    {
     "name": "stdout",
     "output_type": "stream",
     "text": [
      "3\n"
     ]
    }
   ],
   "source": [
    "#6. Comparar entre dos secuencias cuantos aa son diferentes (mutación)\n",
    "seq_ok = \"ACDGHTELHSAD\"\n",
    "seq_mal = \"ACDGHTEGHSGG\"\n",
    "\n",
    "mutacion = sum(1 for aa1, aa2 in zip(seq_ok, seq_mal) if aa1 != aa2)\n",
    "# Con zip() emparejamos los amonoazidos de las dos secuencias \n",
    "print(mutacion)"
   ]
  },
  {
   "cell_type": "code",
   "execution_count": 26,
   "id": "520e62ce",
   "metadata": {},
   "outputs": [
    {
     "name": "stdout",
     "output_type": "stream",
     "text": [
      "El patrón 'ACD' aparece 2 veces en las posiciones: [0, 20]\n"
     ]
    }
   ],
   "source": [
    "#7.  Encontrar subsecuencias\n",
    "# Secuencia de ejemplo\n",
    "secuencia = \"ACDEFGHIKLMNPQRSTVWYACD\"\n",
    "\n",
    "subsecuencia = \"ACD\"\n",
    "\n",
    "posiciones = []\n",
    "contador_subsecuencias = 0\n",
    "\n",
    "for i in range(len(secuencia) - len(subsecuencia) + 1):\n",
    "    if secuencia[i:i + len(subsecuencia)] == subsecuencia:\n",
    "        posiciones.append(i)  # Agregamos la posición a la lista desde donde parte la subsec\n",
    "        contador_subsecuencias += 1 \n",
    "\n",
    "if contador_subsecuencias > 0:\n",
    "    print(f\"El patrón '{subsecuencia}' aparece {contador_subsecuencias} veces en las posiciones: {posiciones}\")\n",
    "else:\n",
    "    print(f\"El patrón '{subsecuencia}' no se encuentra en la secuencia.\")"
   ]
  },
  {
   "cell_type": "code",
   "execution_count": 27,
   "id": "345cc519",
   "metadata": {},
   "outputs": [
    {
     "name": "stdout",
     "output_type": "stream",
     "text": [
      "\n",
      "Secuencia 1: ACDEFGHIKLMNPQ\n",
      "→ No coincide completamente, pero contiene el siguiente fragmento válido:\n",
      "   - Fragmento 'ACDEFGHIKLMNPQ'\n",
      "→ Número de patrones encontrados: 1\n",
      "\n",
      "Secuencia 2: ACDEFXXIKLMNPQRSTVWY\n",
      "→ No coincide completamente, pero contiene el siguiente fragmento válido:\n",
      "   - Fragmento 'IKLMNPQRSTVWY'\n",
      "→ Número de patrones encontrados: 1\n",
      "\n",
      "Secuencia 3: FGHIKLMN\n",
      "→ No coincide completamente, pero contiene el siguiente fragmento válido:\n",
      "   - Fragmento 'FGHIKLMN'\n",
      "→ Número de patrones encontrados: 1\n",
      "\n",
      "Secuencia 4: XXACDEFGHIKLMNPQRSTVWY\n",
      "→ No coincide completamente, pero contiene el siguiente fragmento válido:\n",
      "   - Fragmento 'ACDEFGHIKLMNPQRSTVWY'\n",
      "→ Número de patrones encontrados: 1\n",
      "\n",
      "Secuencia 5: ACDEFGHIKLMNPQRSTVWYY\n",
      "→ No coincide completamente, pero contiene el siguiente fragmento válido:\n",
      "   - Fragmento 'ACDEFGHIKLMNPQRSTVWY'\n",
      "→ Número de patrones encontrados: 1\n"
     ]
    }
   ],
   "source": [
    "#8. Comparar una secuencia con varias de un carchivo\n",
    "secuencia_correcta = \"ACDEFGHIKLMNPQRSTVWY\"\n",
    "\n",
    "# Función para cargar secuencias desde cualquier archivo\n",
    "def cargar_secuencias(nombre_archivo):\n",
    "    with open(nombre_archivo, 'r') as file:\n",
    "        return [line.strip() for line in file.readlines()] #file.readlines() lee todas las lineas, y devuelve una lista\n",
    "\n",
    "# Función para analizar las secuencias\n",
    "def analizar_secuencias(secuencia_correcta, secuencias):\n",
    "    for idx, secuencia in enumerate(secuencias):  # idx sirve paar asirnar un numero a cada secuencia\n",
    "        print(f\"\\nSecuencia {idx + 1}: {secuencia}\")\n",
    "\n",
    "        # Caso 1: Comparación completa\n",
    "        if secuencia == secuencia_correcta:\n",
    "            print(\"→ Coincide completamente con la secuencia correcta.\")\n",
    "            continue\n",
    "\n",
    "        # Caso 2: Buscar fragmentos que coincidan\n",
    "        fragmento_mas_largo = \"\"\n",
    "\n",
    "        for i in range(len(secuencia)):\n",
    "            for j in range(i + 1, len(secuencia) + 1):\n",
    "                fragmento = secuencia[i:j]\n",
    "                if fragmento in secuencia_correcta and len(fragmento) > len(fragmento_mas_largo):\n",
    "                    fragmento_mas_largo = fragmento\n",
    "\n",
    "        # Mostrar resultados\n",
    "        if fragmento_mas_largo:\n",
    "            print(f\"→ No coincide completamente, pero contiene el siguiente fragmento válido:\")\n",
    "            print(f\"   - Fragmento '{fragmento_mas_largo}'\")\n",
    "            print(f\"→ Número de patrones encontrados: 1\")\n",
    "        else:\n",
    "            print(\"→ No tiene fragmentos válidos.\")\n",
    "\n",
    "# Cargar las secuencias desde el archivo\n",
    "secuencias = cargar_secuencias('secuencias.txt')\n",
    "\n",
    "# Llamar a la función para analizar las secuencias\n",
    "analizar_secuencias(secuencia_correcta, secuencias)\n"
   ]
  },
  {
   "cell_type": "code",
   "execution_count": 28,
   "id": "e8c5a2c1",
   "metadata": {},
   "outputs": [
    {
     "name": "stdout",
     "output_type": "stream",
     "text": [
      "Frecuencia de aminoácidos:\n",
      "A: 2\n",
      "C: 2\n",
      "D: 2\n",
      "E: 2\n",
      "F: 2\n",
      "G: 2\n",
      "H: 2\n",
      "I: 2\n",
      "K: 2\n",
      "L: 1\n",
      "M: 1\n",
      "N: 1\n",
      "P: 1\n",
      "Q: 1\n",
      "R: 1\n",
      "S: 1\n",
      "T: 1\n",
      "V: 1\n",
      "W: 1\n",
      "Y: 1\n"
     ]
    }
   ],
   "source": [
    "#9. Contar la frecuencias de aminoácidos\n",
    "secuencia = \"ACDEFGHIKLMNPQRSTVWYACDEFGHIK\"\n",
    "\n",
    "def contar_frecuencia(secuencia):\n",
    "    frecuencias = {}\n",
    "    for aminoacido in secuencia:\n",
    "        if aminoacido in frecuencias:\n",
    "            frecuencias[aminoacido] += 1\n",
    "        else:\n",
    "            frecuencias[aminoacido] = 1\n",
    "    return frecuencias\n",
    "\n",
    "\n",
    "frecuencias = contar_frecuencia(secuencia)\n",
    "print(\"Frecuencia de aminoácidos:\")\n",
    "for aminoacido, frecuencia in frecuencias.items():\n",
    "    print(f\"{aminoacido}: {frecuencia}\")\n"
   ]
  },
  {
   "cell_type": "code",
   "execution_count": 29,
   "id": "e41bb3fe",
   "metadata": {},
   "outputs": [
    {
     "name": "stdout",
     "output_type": "stream",
     "text": [
      "\n",
      "Secuencia 1: ACDEFGHIKLMNPQ\n",
      "→ Longitud diferente: no se puede analizar.\n",
      "\n",
      "Secuencia 2: ACDEFXXIKLMNPQRSTVWY\n",
      "→ Mutaciones encontradas en posiciones: [(5, 'G', 'X'), (6, 'H', 'X')]\n",
      "\n",
      "Secuencia 3: FGHIKLMN\n",
      "→ Longitud diferente: no se puede analizar.\n",
      "\n",
      "Secuencia 4: XXACDEFGHIKLMNPQRSTVWY\n",
      "→ Longitud diferente: no se puede analizar.\n",
      "\n",
      "Secuencia 5: ACDEFGHIKLMNPQRSTVWYY\n",
      "→ Longitud diferente: no se puede analizar.\n"
     ]
    }
   ],
   "source": [
    "#10. Indicaar mutaciones en múltiples secuencias\n",
    "secuencia_correcta = \"ACDEFGHIKLMNPQRSTVWY\"\n",
    "\n",
    "def cargar_secuencias(nombre_archivo):\n",
    "    with open(nombre_archivo, 'r') as file:\n",
    "        return [line.strip() for line in file.readlines()]\n",
    "\n",
    "# Función para identificar mutaciones\n",
    "def identificar_mutaciones(secuencia_correcta, secuencias):\n",
    "    for idx, secuencia in enumerate(secuencias): #Con enumerate() llevamos un conteo del indice\n",
    "        print(f\"\\nSecuencia {idx + 1}: {secuencia}\")\n",
    "        if len(secuencia) != len(secuencia_correcta):\n",
    "            print(\"→ Longitud diferente: no se puede analizar.\")\n",
    "            continue\n",
    "        \n",
    "        mutaciones = []\n",
    "        for i, (aa_ref, aa_seq) in enumerate(zip(secuencia_correcta, secuencia)): #Con zip() emparejamos las 2 secuencias\n",
    "            if aa_ref != aa_seq:\n",
    "                mutaciones.append((i, aa_ref, aa_seq))\n",
    "        \n",
    "        if mutaciones:\n",
    "            print(f\"→ Mutaciones encontradas en posiciones: {mutaciones}\")\n",
    "        else:\n",
    "            print(\"→ Secuencia sin mutaciones.\")\n",
    "            \n",
    "# Cargar las secuencias desde un archivo y analizar\n",
    "secuencias = cargar_secuencias('secuencias.txt')\n",
    "identificar_mutaciones(secuencia_correcta, secuencias)\n"
   ]
  },
  {
   "cell_type": "code",
   "execution_count": 35,
   "id": "95063e35",
   "metadata": {},
   "outputs": [
    {
     "data": {
      "image/png": "[encoded data removed]",
      "text/plain": [
       "<Figure size 640x480 with 1 Axes>"
      ]
     },
     "metadata": {},
     "output_type": "display_data"
    }
   ],
   "source": [
    "#11. Visualizar patrones de mutaciones con gráficos\n",
    "\n",
    "import matplotlib.pyplot as plt\n",
    "\n",
    "# Ejemplo de posiciones de mutaciones\n",
    "mutaciones = [3, 5, 5, 7, 10, 3, 5, 10, 3] \n",
    "\n",
    "# Función para contar mutaciones por posición\n",
    "def contar_mutaciones(mutaciones):\n",
    "    conteo = {}\n",
    "    for posicion in mutaciones:\n",
    "        if posicion in conteo:\n",
    "            conteo[posicion] += 1\n",
    "        else:\n",
    "            conteo[posicion] = 1\n",
    "    return conteo\n",
    "\n",
    "# Función para graficar mutaciones\n",
    "def graficar_mutaciones(conteo):\n",
    "    posiciones = list(conteo.keys())\n",
    "    cantidades = list(conteo.values())\n",
    "    \n",
    "    plt.bar(posiciones, cantidades, color='blue')\n",
    "    plt.xlabel(\"Posición en la secuencia\")\n",
    "    plt.ylabel(\"Número de mutaciones\")\n",
    "    plt.title(\"Frecuencia de mutaciones por posición\")\n",
    "    plt.show()\n",
    "\n",
    "# Procesar y graficar\n",
    "conteo_mutaciones = contar_mutaciones(mutaciones)\n",
    "graficar_mutaciones(conteo_mutaciones)\n"
   ]
  },
  {
   "cell_type": "markdown",
   "id": "cf079742",
   "metadata": {},
   "source": [
    "### Ahora practicaremos con genes "
   ]
  },
  {
   "cell_type": "code",
   "execution_count": 54,
   "id": "92597012",
   "metadata": {},
   "outputs": [
    {
     "name": "stdout",
     "output_type": "stream",
     "text": [
      "AUCGUACAA\n"
     ]
    }
   ],
   "source": [
    "# Transcripción (ADN --> ARNm)\n",
    "def transcribir_adn(adn):\n",
    "    return adn.replace(\"T\", \"U\")\n",
    "\n",
    "adn = \"ATCGTACAA\"\n",
    "\n",
    "arn = transcribir_adn(adn)\n",
    "print(arn)"
   ]
  },
  {
   "cell_type": "code",
   "execution_count": 55,
   "id": "f6c648b0",
   "metadata": {},
   "outputs": [
    {
     "name": "stdout",
     "output_type": "stream",
     "text": [
      "IVQ\n"
     ]
    }
   ],
   "source": [
    "# Traducción (ARNm --> Cadena de AA)\n",
    "\n",
    "# IMPORTANTE, AQUI ESTA TODA LA RELACIÓN CONDOÓN - AA\n",
    "codon_tabla = {\n",
    "    'AUG': 'M',  # Metionina\n",
    "    'UUU': 'F',  # Fenilalanina\n",
    "    'UUC': 'F',  # Fenilalanina\n",
    "    'UUA': 'L',  # Leucina\n",
    "    'UUG': 'L',  # Leucina\n",
    "    'CUU': 'L',  # Leucina\n",
    "    'CUC': 'L',  # Leucina\n",
    "    'CUA': 'L',  # Leucina\n",
    "    'CUG': 'L',  # Leucina\n",
    "    'AUU': 'I',  # Isoleucina\n",
    "    'AUC': 'I',  # Isoleucina\n",
    "    'AUA': 'I',  # Isoleucina\n",
    "    'GUU': 'V',  # Valina\n",
    "    'GUC': 'V',  # Valina\n",
    "    'GUA': 'V',  # Valina\n",
    "    'GUG': 'V',  # Valina\n",
    "    'UCU': 'S',  # Serina\n",
    "    'UCC': 'S',  # Serina\n",
    "    'UCA': 'S',  # Serina\n",
    "    'UCG': 'S',  # Serina\n",
    "    'CCU': 'P',  # Prolina\n",
    "    'CCC': 'P',  # Prolina\n",
    "    'CCA': 'P',  # Prolina\n",
    "    'CCG': 'P',  # Prolina\n",
    "    'ACU': 'T',  # Treonina\n",
    "    'ACC': 'T',  # Treonina\n",
    "    'ACA': 'T',  # Treonina\n",
    "    'ACG': 'T',  # Treonina\n",
    "    'GCU': 'A',  # Alanina\n",
    "    'GCC': 'A',  # Alanina\n",
    "    'GCA': 'A',  # Alanina\n",
    "    'GCG': 'A',  # Alanina\n",
    "    'UAU': 'Y',  # Tirosina\n",
    "    'UAC': 'Y',  # Tirosina\n",
    "    'CAU': 'H',  # Histidina\n",
    "    'CAC': 'H',  # Histidina\n",
    "    'CAA': 'Q',  # Glutamina\n",
    "    'CAG': 'Q',  # Glutamina\n",
    "    'AAU': 'N',  # Asparagina\n",
    "    'AAC': 'N',  # Asparagina\n",
    "    'AAA': 'K',  # Lisina\n",
    "    'AAG': 'K',  # Lisina\n",
    "    'GAU': 'D',  # Ácido aspártico\n",
    "    'GAC': 'D',  # Ácido aspártico\n",
    "    'GAA': 'E',  # Ácido glutámico\n",
    "    'GAG': 'E',  # Ácido glutámico\n",
    "    'UGU': 'C',  # Cisteína\n",
    "    'UGC': 'C',  # Cisteína\n",
    "    'UGG': 'W',  # Triptófano\n",
    "    'UGA': 'STOP',  # Codón de parada\n",
    "    'UAA': 'STOP',  # Codón de parada\n",
    "    'UAG': 'STOP',  # Codón de parada\n",
    "    'CGU': 'R',  # Arginina\n",
    "    'CGC': 'R',  # Arginina\n",
    "    'CGA': 'R',  # Arginina\n",
    "    'CGG': 'R',  # Arginina\n",
    "    'AGA': 'R',  # Arginina\n",
    "    'AGG': 'R'   # Arginina\n",
    "}\n",
    "\n",
    "def traducir_arn(arn):\n",
    "    aminoacidos = []\n",
    "    for i in range(0, len(arn), 3):\n",
    "        codon = arn[i:i+3]\n",
    "        if codon_tabla.get(codon) == 'STOP':\n",
    "            break\n",
    "        aminoacidos.append(codon_tabla.get(codon, '-')) # - para cuando no es multiplo de 3 o hay caracteres que no son nucleotidos\n",
    "    return ''.join(aminoacidos)\n",
    "\n",
    "print(traducir_arn(arn))"
   ]
  },
  {
   "cell_type": "code",
   "execution_count": 59,
   "id": "f75f9270",
   "metadata": {},
   "outputs": [
    {
     "name": "stdout",
     "output_type": "stream",
     "text": [
      "['ATGCGATAA', 'ATGAAATAG']\n"
     ]
    }
   ],
   "source": [
    "#12. Identificar genes en una secuencia de ADN (inicio y fin)\n",
    "\n",
    "def encontrar_genes(adn):\n",
    "    genes = []\n",
    "    i = 0\n",
    "    while i < len(adn) - 2:\n",
    "        if adn[i:i+3] == \"ATG\":  # Inicio de un gen\n",
    "            for j in range(i + 3, len(adn) - 2, 3):\n",
    "                if adn[j:j+3] in [\"TAA\", \"TAG\", \"TGA\"]:  # Codón de parada\n",
    "                    genes.append(adn[i:j+3])\n",
    "                    i = j\n",
    "                    break\n",
    "        i += 1\n",
    "    return genes\n",
    "\n",
    "adn = \"ATGCGATAATGAAATAG\"\n",
    "genes = encontrar_genes(adn)\n",
    "print(genes)"
   ]
  },
  {
   "cell_type": "code",
   "execution_count": 61,
   "id": "6ba402e8",
   "metadata": {},
   "outputs": [
    {
     "name": "stdout",
     "output_type": "stream",
     "text": [
      "29.411764705882355\n"
     ]
    }
   ],
   "source": [
    "#13. Calcular el numero de GC (importante para estudiar estabilidad)\n",
    "def calcular_gc_content(adn):\n",
    "    gc = adn.count('G') + adn.count('C')\n",
    "    return (gc / len(adn)) * 100\n",
    "\n",
    "GC_porcen = calcular_gc_content(adn)\n",
    "print(GC_porcen)"
   ]
  },
  {
   "cell_type": "code",
   "execution_count": null,
   "id": "ba3fa648",
   "metadata": {},
   "outputs": [
    {
     "name": "stdout",
     "output_type": "stream",
     "text": [
      "ATGCGATAATGAAATAG\n"
     ]
    },
    {
     "data": {
      "image/png": "[encoded data removed]",
      "text/plain": [
       "<Figure size 640x480 with 1 Axes>"
      ]
     },
     "metadata": {},
     "output_type": "display_data"
    }
   ],
   "source": [
    "#14. Graficar contenido de nucleótidos\n",
    "\n",
    "print(adn)\n",
    "import matplotlib.pyplot as plt\n",
    "\n",
    "def graficar_nucleotidos(adn):\n",
    "    conteo = {\n",
    "        'A': adn.count('A'),\n",
    "        'T': adn.count('T'),\n",
    "        'G': adn.count('G'),\n",
    "        'C': adn.count('C')\n",
    "    }\n",
    "    nucleotidos = list(conteo.keys())\n",
    "    cantidades = list(conteo.values())\n",
    "    \n",
    "    plt.bar(nucleotidos, cantidades, color='green')\n",
    "    plt.xlabel(\"Nucleótidos\")\n",
    "    plt.ylabel(\"Frecuencia\")\n",
    "    plt.title(\"Frecuencia de nucleótidos en ADN\")\n",
    "    plt.show()\n",
    "\n",
    "\n",
    "graficar_nucleotidos(adn)\n"
   ]
  },
  {
   "cell_type": "code",
   "execution_count": null,
   "id": "eb7f8740",
   "metadata": {},
   "outputs": [],
   "source": []
  },
  {
   "cell_type": "code",
   "execution_count": null,
   "id": "4f5a7eec",
   "metadata": {},
   "outputs": [],
   "source": []
  },
  {
   "cell_type": "code",
   "execution_count": null,
   "id": "c2a3ec4e",
   "metadata": {},
   "outputs": [],
   "source": []
  },
  {
   "cell_type": "code",
   "execution_count": null,
   "id": "8f53d399",
   "metadata": {},
   "outputs": [],
   "source": []
  },
  {
   "cell_type": "code",
   "execution_count": null,
   "id": "381442c5",
   "metadata": {},
   "outputs": [],
   "source": []
  },
  {
   "cell_type": "code",
   "execution_count": null,
   "id": "6f2a49a0",
   "metadata": {},
   "outputs": [],
   "source": []
  },
  {
   "cell_type": "code",
   "execution_count": null,
   "id": "5d2c22fe",
   "metadata": {},
   "outputs": [],
   "source": []
  },
  {
   "cell_type": "markdown",
   "id": "0a4b506d",
   "metadata": {},
   "source": []
  }
 ],
 "metadata": {
  "kernelspec": {
   "display_name": "biopy",
   "language": "python",
   "name": "python3"
  },
  "language_info": {
   "codemirror_mode": {
    "name": "ipython",
    "version": 3
   },
   "file_extension": ".py",
   "mimetype": "text/x-python",
   "name": "python",
   "nbconvert_exporter": "python",
   "pygments_lexer": "ipython3",
   "version": "3.11.7"
  }
 },
 "nbformat": 4,
 "nbformat_minor": 5
}
