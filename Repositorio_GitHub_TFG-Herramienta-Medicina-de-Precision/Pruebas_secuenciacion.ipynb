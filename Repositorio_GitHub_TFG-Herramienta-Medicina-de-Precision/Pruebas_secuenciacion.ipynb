{
 "cells": [
  {
   "cell_type": "markdown",
   "id": "6d8b3200",
   "metadata": {},
   "source": [
    "# TFG sobre Herramienta para la Medicina de Precisión"
   ]
  },
  {
   "cell_type": "markdown",
   "id": "ba3d6c32",
   "metadata": {},
   "source": [
    "### Ejercicios tipo para agilizar el manejo de Python"
   ]
  },
  {
   "cell_type": "markdown",
   "id": "959d190c",
   "metadata": {},
   "source": [
    "####  Leer y procesar secuencias de aminoácidos"
   ]
  },
  {
   "cell_type": "code",
   "execution_count": 1,
   "id": "7fb90582",
   "metadata": {},
   "outputs": [
    {
     "name": "stdout",
     "output_type": "stream",
     "text": [
      "La secuencia es: ACDEFGHIKLMNPQRSTVWY\n",
      "Número de aminoácidos: 20\n"
     ]
    }
   ],
   "source": [
    "#1. Leer secuencia desde un archivo\n",
    " \n",
    "with open(\"secuencia.txt\", \"r\") as archivo: # r para modo lectura\n",
    "    secuencia = archivo.read().strip() #read() obtener sec como texto y strip() elimina espacios en blanco\n",
    "\n",
    "\n",
    "longitud = len(secuencia)\n",
    "\n",
    "print(f\"La secuencia es: {secuencia}\") # f\"....{}...\"  --> tener en cuenta para dar los resultados de forma clara y visual\n",
    "print(f\"Número de aminoácidos: {longitud}\")\n"
   ]
  },
  {
   "cell_type": "code",
   "execution_count": 3,
   "id": "cc1f3fe8",
   "metadata": {},
   "outputs": [
    {
     "name": "stdout",
     "output_type": "stream",
     "text": [
      "1\n"
     ]
    }
   ],
   "source": [
    "#2.  Contar cuántas veces aparece un aminoácido específico\n",
    "aminoacido = \"L\"\n",
    "\n",
    "contar = secuencia.count(aminoacido)\n",
    "\n",
    "print(contar)"
   ]
  },
  {
   "cell_type": "code",
   "execution_count": 14,
   "id": "23080833",
   "metadata": {},
   "outputs": [
    {
     "name": "stdout",
     "output_type": "stream",
     "text": [
      "['Alanina', 'Cisteína', 'Ácido aspártico', 'Ácido glutámico', 'Fenilalanina', 'Glicina']\n"
     ]
    }
   ],
   "source": [
    "#3. Paso de letras a nombres de aminoacidos\n",
    "\n",
    "# IMPORTANTE EL SIGUIENTE DICCIONARIO, LE PODRE UTILIZAR EN EL FUTURO\n",
    "# CONTIENE TODOS LOS AMINOACIDOS\n",
    "\n",
    "nombres_aminoacidos = {\n",
    "    \"A\": \"Alanina\", \"C\": \"Cisteína\", \"D\": \"Ácido aspártico\", \n",
    "    \"E\": \"Ácido glutámico\", \"F\": \"Fenilalanina\", \"G\": \"Glicina\", \n",
    "    \"H\": \"Histidina\", \"I\": \"Isoleucina\", \"K\": \"Lisina\", \n",
    "    \"L\": \"Leucina\", \"M\": \"Metionina\", \"N\": \"Asparagina\", \n",
    "    \"P\": \"Prolina\", \"Q\": \"Glutamina\", \"R\": \"Arginina\", \n",
    "    \"S\": \"Serina\", \"T\": \"Treonina\", \"V\": \"Valina\", \n",
    "    \"W\": \"Triptófano\", \"Y\": \"Tirosina\"}\n",
    "\n",
    "seq = \"ACDEFG\"\n",
    "\n",
    "traducir = [nombres_aminoacidos[i] for i in seq] #los corchestes que engloban sirben para agrupar el resultado en una lista\n",
    "print(traducir)"
   ]
  },
  {
   "cell_type": "code",
   "execution_count": 22,
   "id": "cc29812a",
   "metadata": {},
   "outputs": [
    {
     "name": "stdout",
     "output_type": "stream",
     "text": [
      "{'Q', 'A', 'G', 'D', 'R', 'V', 'I', 'K', 'F', 'T', 'W', 'C', 'M', 'Y', 'L', 'P', 'H', 'N', 'S', 'E'}\n"
     ]
    }
   ],
   "source": [
    "#4. Obtener los aminoacidos validos a partir del diccionario anterior\n",
    "aa_validos = set(nombres_aminoacidos.keys()) # Con set() lo que hacemos es crear un conjunto, que se caracteriza por no tener un orden y no tener duplicados, mejor que list\n",
    "print(aa_validos)\n",
    "\n",
    "#aa_validos LO PODRÉ UTILIZAR EN POSTERIORMENTE PARA HACER MÁS CONSULTAS, YA QUE CONTIENE TODOS LOS AA "
   ]
  },
  {
   "cell_type": "code",
   "execution_count": 31,
   "id": "197db2d9",
   "metadata": {},
   "outputs": [
    {
     "name": "stdout",
     "output_type": "stream",
     "text": [
      "La secuencia es válida.\n"
     ]
    }
   ],
   "source": [
    "# Secuencia de ejemplo\n",
    "secuencia = \"\"\n",
    "\n",
    "# Conjunto de aminoácidos válidos\n",
    "aminoacidos_validos = set(\"ACDEFGHIKLMNPQRSTVWY\")\n",
    "\n",
    "# Validar la secuencia\n",
    "es_valida = all(aa in aminoacidos_validos for aa in secuencia)\n",
    "\n",
    "if es_valida:\n",
    "    print(\"La secuencia es válida.\")\n",
    "else:\n",
    "    print(\"La secuencia contiene caracteres no válidos.\")\n"
   ]
  },
  {
   "cell_type": "code",
   "execution_count": 36,
   "id": "7bdd8fb5",
   "metadata": {},
   "outputs": [
    {
     "name": "stdout",
     "output_type": "stream",
     "text": [
      "La secuencia contiene caracteres no válidos.\n"
     ]
    }
   ],
   "source": [
    "#5. Comprobar si una secuencia contiene solo aminoácidos válidos\n",
    "seq = \"ACDGXHT\" # x no es un aa\n",
    "\n",
    "# Validar la secuencia\n",
    "es_valida = all(aa in aa_validos for aa in seq) #all() para verificar que cada caracter esta en el conjunto\n",
    "#El bucle recorre que cada aa de seq este dentro de aa_validos. Si es así all() delvuelve  es_valida = True\n",
    "if es_valida:\n",
    "    print(\"La secuencia es válida.\")\n",
    "else:\n",
    "    print(\"La secuencia contiene caracteres no válidos.\")"
   ]
  },
  {
   "cell_type": "code",
   "execution_count": 43,
   "id": "a0894988",
   "metadata": {},
   "outputs": [
    {
     "name": "stdout",
     "output_type": "stream",
     "text": [
      "3\n"
     ]
    }
   ],
   "source": [
    "#6. Comparar entre dos secuencias cuantos aa son diferentes (mutación)\n",
    "seq_ok = \"ACDGHTELHSAD\"\n",
    "seq_mal = \"ACDGHTEGHSGG\"\n",
    "\n",
    "mutacion = sum(1 for aa1, aa2 in zip(seq_ok, seq_mal) if aa1 != aa2)\n",
    "# Con zip() emparejamos los amonoazidos de las dos secuencias \n",
    "print(mutacion)"
   ]
  },
  {
   "cell_type": "code",
   "execution_count": 48,
   "id": "520e62ce",
   "metadata": {},
   "outputs": [
    {
     "name": "stdout",
     "output_type": "stream",
     "text": [
      "El patrón 'ACD' aparece 2 veces en las posiciones: [0, 20]\n"
     ]
    }
   ],
   "source": [
    "#7.  Encontrar subsecuencias\n",
    "# Secuencia de ejemplo\n",
    "secuencia = \"ACDEFGHIKLMNPQRSTVWYACD\"\n",
    "\n",
    "subsecuencia = \"ACD\"\n",
    "\n",
    "posiciones = []\n",
    "contador_subsecuencias = 0\n",
    "\n",
    "for i in range(len(secuencia) - len(subsecuencia) + 1):\n",
    "    if secuencia[i:i + len(subsecuencia)] == subsecuencia:\n",
    "        posiciones.append(i)  # Agregamos la posición a la lista desde donde parte la subsec\n",
    "        contador_subsecuencias += 1 \n",
    "\n",
    "if contador_subsecuencias > 0:\n",
    "    print(f\"El patrón '{subsecuencia}' aparece {contador_subsecuencias} veces en las posiciones: {posiciones}\")\n",
    "else:\n",
    "    print(f\"El patrón '{subsecuencia}' no se encuentra en la secuencia.\")"
   ]
  },
  {
   "cell_type": "code",
   "execution_count": 62,
   "id": "345cc519",
   "metadata": {},
   "outputs": [
    {
     "name": "stdout",
     "output_type": "stream",
     "text": [
      "\n",
      "Secuencia 1: ACDEFGHIKLMNPQ\n",
      "→ No coincide completamente, pero contiene el siguiente fragmento válido:\n",
      "   - Fragmento 'ACDEFGHIKLMNPQ'\n",
      "→ Número de patrones encontrados: 1\n",
      "\n",
      "Secuencia 2: ACDEFXXIKLMNPQRSTVWY\n",
      "→ No coincide completamente, pero contiene el siguiente fragmento válido:\n",
      "   - Fragmento 'IKLMNPQRSTVWY'\n",
      "→ Número de patrones encontrados: 1\n",
      "\n",
      "Secuencia 3: FGHIKLMN\n",
      "→ No coincide completamente, pero contiene el siguiente fragmento válido:\n",
      "   - Fragmento 'FGHIKLMN'\n",
      "→ Número de patrones encontrados: 1\n",
      "\n",
      "Secuencia 4: XXACDEFGHIKLMNPQRSTVWY\n",
      "→ No coincide completamente, pero contiene el siguiente fragmento válido:\n",
      "   - Fragmento 'ACDEFGHIKLMNPQRSTVWY'\n",
      "→ Número de patrones encontrados: 1\n",
      "\n",
      "Secuencia 5: ACDEFGHIKLMNPQRSTVWYY\n",
      "→ No coincide completamente, pero contiene el siguiente fragmento válido:\n",
      "   - Fragmento 'ACDEFGHIKLMNPQRSTVWY'\n",
      "→ Número de patrones encontrados: 1\n"
     ]
    }
   ],
   "source": [
    "# Secuencia correcta (referencia)\n",
    "secuencia_correcta = \"ACDEFGHIKLMNPQRSTVWY\"\n",
    "\n",
    "# Función para cargar secuencias desde un archivo\n",
    "def cargar_secuencias(archivo):\n",
    "    with open(archivo, 'r') as file:\n",
    "        return [line.strip() for line in file.readlines()]\n",
    "\n",
    "# Función para analizar las secuencias\n",
    "def analizar_secuencias(secuencia_correcta, secuencias):\n",
    "    for idx, secuencia in enumerate(secuencias):\n",
    "        print(f\"\\nSecuencia {idx + 1}: {secuencia}\")\n",
    "\n",
    "        # Caso 1: Comparación completa\n",
    "        if secuencia == secuencia_correcta:\n",
    "            print(\"→ Coincide completamente con la secuencia correcta.\")\n",
    "            continue\n",
    "\n",
    "        # Caso 2: Buscar fragmentos que coincidan\n",
    "        # Inicializar la variable para el fragmento más largo\n",
    "        fragmento_mas_largo = \"\"\n",
    "\n",
    "        # Buscar fragmentos válidos en la secuencia\n",
    "        for i in range(len(secuencia)):\n",
    "            for j in range(i + 1, len(secuencia) + 1):\n",
    "                fragmento = secuencia[i:j]\n",
    "                # Si el fragmento está en la secuencia correcta y es más largo que el actual\n",
    "                if fragmento in secuencia_correcta and len(fragmento) > len(fragmento_mas_largo):\n",
    "                    fragmento_mas_largo = fragmento\n",
    "\n",
    "        # Mostrar resultados\n",
    "        if fragmento_mas_largo:\n",
    "            print(f\"→ No coincide completamente, pero contiene el siguiente fragmento válido:\")\n",
    "            print(f\"   - Fragmento '{fragmento_mas_largo}'\")\n",
    "            print(f\"→ Número de patrones encontrados: 1\")\n",
    "        else:\n",
    "            print(\"→ No tiene fragmentos válidos.\")\n",
    "\n",
    "# Llamar a la función para analizar las secuencias\n",
    "analizar_secuencias(secuencia_correcta, secuencias)\n"
   ]
  },
  {
   "cell_type": "code",
   "execution_count": null,
   "id": "e8c5a2c1",
   "metadata": {},
   "outputs": [],
   "source": []
  }
 ],
 "metadata": {
  "kernelspec": {
   "display_name": "Python 3 (ipykernel)",
   "language": "python",
   "name": "python3"
  },
  "language_info": {
   "codemirror_mode": {
    "name": "ipython",
    "version": 3
   },
   "file_extension": ".py",
   "mimetype": "text/x-python",
   "name": "python",
   "nbconvert_exporter": "python",
   "pygments_lexer": "ipython3",
   "version": "3.11.5"
  }
 },
 "nbformat": 4,
 "nbformat_minor": 5
}
